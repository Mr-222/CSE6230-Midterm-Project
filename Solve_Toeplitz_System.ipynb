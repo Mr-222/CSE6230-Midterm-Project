{
 "cells": [
  {
   "cell_type": "markdown",
   "id": "7670ff83-3709-470c-a744-56e8eeb1b086",
   "metadata": {},
   "source": [
    "# Preconditioned Conjugated Gradient for Toeplitz System "
   ]
  },
  {
   "cell_type": "markdown",
   "id": "1907bb3b-0fec-4454-bf11-96225a46ddab",
   "metadata": {},
   "source": [
    "## Form Toelitz Systems"
   ]
  },
  {
   "cell_type": "markdown",
   "id": "bef268a0-c649-4100-aba2-e66693305b29",
   "metadata": {},
   "source": [
    "A $n \\times n$ matrix $A_n$ is called a Toeplitz matrix if it has the form\n",
    "\n",
    "$$\n",
    "A_n = \n",
    "\\begin{bmatrix}\n",
    "a_0 & a_{-1} & \\cdots & a_{2-n} & a_{1-n} \\\\\n",
    "a_1 & a_0 & a_{-1} & \\ddots & \\vdots \\\\\n",
    "\\vdots & a_1 & \\ddots & \\ddots & a_{2-n} \\\\\n",
    "a_{n-2} & \\ddots & \\ddots & a_0 & a_{-1} \\\\\n",
    "a_{n-1} & a_{n-2} & \\cdots & a_1 & a_0\n",
    "\\end{bmatrix}\n",
    "$$\n",
    "In this project, we are solving **symmetric positive definite Toeplitz systems** by preconditioned CG methods using **circulant matrices** as the preconditioners"
   ]
  },
  {
   "cell_type": "markdown",
   "id": "a7535add-d464-4db3-898e-f3898fea1169",
   "metadata": {},
   "source": [
    "### Power decay System"
   ]
  },
  {
   "cell_type": "markdown",
   "id": "929732b9-0392-4417-a0a4-460f6aef31db",
   "metadata": {},
   "source": [
    "$a_k = | k + 1 |^{-p}$ for the lower triangular part of $A_n$, where $p = 2, 1, 1/10, 1/100$"
   ]
  },
  {
   "cell_type": "code",
   "execution_count": 1,
   "id": "6e23c117-fecb-460d-8bae-f6dc4ab4ad5b",
   "metadata": {},
   "outputs": [],
   "source": [
    "import numpy as np\n",
    "import time\n",
    "import scipy\n",
    "import math"
   ]
  },
  {
   "cell_type": "code",
   "execution_count": 2,
   "id": "fe37d627-a645-465b-bd14-9168a76196a8",
   "metadata": {},
   "outputs": [],
   "source": [
    "def generate_power_decay_system(n: int, p: np.float64) -> np.ndarray:\n",
    "    \"\"\"\n",
    "    A_n = [\n",
    "        a_0, a_{-1}, ..., a_{2 - n}, a_{1 - n},\n",
    "        a_1, a_0, a{-1}, ..., a_{2 - n},\n",
    "        ...\n",
    "        a_{n-1}, a_{n-2}, ..., a_1, a_0\n",
    "    ]\n",
    "    A:SPD\n",
    "    a_k = | k + 1 |^(-p) for lower triangular part\n",
    "    \"\"\"\n",
    "    A = np.zeros((n, n))\n",
    "    for i in range(n):\n",
    "        for j in range(n):\n",
    "            if i >= j:\n",
    "                A[i, j] = abs(i - j + 1) ** (-p)\n",
    "    # Make A as symmetric\n",
    "    A += A.T - np.diag(A.diagonal())\n",
    "\n",
    "    return A"
   ]
  },
  {
   "cell_type": "code",
   "execution_count": 3,
   "id": "a76122a1-cd12-4e5c-95a4-a4fe224001af",
   "metadata": {},
   "outputs": [
    {
     "name": "stdout",
     "output_type": "stream",
     "text": [
      "[[1.         0.5        0.33333333 0.25      ]\n",
      " [0.5        1.         0.5        0.33333333]\n",
      " [0.33333333 0.5        1.         0.5       ]\n",
      " [0.25       0.33333333 0.5        1.        ]]\n"
     ]
    }
   ],
   "source": [
    "A = generate_power_decay_system(4, 1)\n",
    "print(A)"
   ]
  },
  {
   "cell_type": "markdown",
   "id": "50c0e153-809c-4b17-9b51-5bf7d657ccab",
   "metadata": {},
   "source": [
    "### FFT System"
   ]
  },
  {
   "cell_type": "markdown",
   "id": "1ec0d9da-67d3-431d-a7dc-21294ed82d42",
   "metadata": {},
   "source": [
    "$$a_k = \\frac{1}{2\\pi} \\int_{-\\pi}^{\\pi} f(\\theta)e^{-ik\\theta}d\\theta, k = 0, \\pm1, \\pm2, ...$$\n",
    "$$ f(\\theta) = \\theta^4 + 1, -\\pi \\leq \\theta \\leq \\pi$$"
   ]
  },
  {
   "cell_type": "markdown",
   "id": "f07c2ca3-8f58-43c1-9a5a-f977cf53a7a8",
   "metadata": {},
   "source": [
    "Since the integral is the formula of continuous fourier transform, we can form the system's first column by using FFT (use $\\theta$ as sample parameter), then construct the symmetric Toeplitz matrix."
   ]
  },
  {
   "cell_type": "code",
   "execution_count": 4,
   "id": "35586bc9-3790-4ce8-be7a-0d69fef99b31",
   "metadata": {},
   "outputs": [],
   "source": [
    "def generate_FFT_system(n: int) -> np.ndarray:\n",
    "    \"\"\"\n",
    "        A_n = [\n",
    "        a_0, a_{-1}, ..., a_{2 - n}, a_{1 - n},\n",
    "        a_1, a_0, a{-1}, ..., a_{2 - n},\n",
    "        ...\n",
    "        a_{n-1}, a_{n-2}, ..., a_1, a_0\n",
    "    ]\n",
    "    A:SPD\n",
    "    a_k = 1 / (2pi) * integral_-pi^pi f(theta) e^(-i * k * theta) dtheta\n",
    "    f(theta) = theta^4 + 1\n",
    "    \"\"\"\n",
    "    f = lambda theta: theta ** 4.0 + 1\n",
    "    thetas = np.linspace(-np.pi, np.pi, n, endpoint=False)\n",
    "    first_col = (np.fft.fft(f(thetas))) / np.float64(n)\n",
    "    A = scipy.linalg.toeplitz(first_col.real, first_col.real)\n",
    "\n",
    "    return A"
   ]
  },
  {
   "cell_type": "code",
   "execution_count": 5,
   "id": "d1a4c5d3-c147-4fa9-add4-e2a65285afa9",
   "metadata": {},
   "outputs": [
    {
     "name": "stdout",
     "output_type": "stream",
     "text": [
      "[[1.         0.5        0.33333333 0.25      ]\n",
      " [0.5        1.         0.5        0.33333333]\n",
      " [0.33333333 0.5        1.         0.5       ]\n",
      " [0.25       0.33333333 0.5        1.        ]]\n"
     ]
    }
   ],
   "source": [
    "A = generate_power_decay_system(4, 1)\n",
    "print(A)"
   ]
  },
  {
   "cell_type": "markdown",
   "id": "de1af07f-9f7d-493d-af5a-b7a5925a99f5",
   "metadata": {},
   "source": [
    "## CG Algorithm"
   ]
  },
  {
   "cell_type": "markdown",
   "id": "2130bd9c-1de3-46cc-8367-84d2018ac944",
   "metadata": {},
   "source": [
    "This is the normal conjugate gradient method with termination criteria $\\frac{\\Vert r^k \\Vert}{\\Vert r^0 \\Vert} <= 10^{-6}$ :"
   ]
  },
  {
   "cell_type": "code",
   "execution_count": 6,
   "id": "4e36ab4f-7fb8-461f-99d7-867f5db51455",
   "metadata": {},
   "outputs": [],
   "source": [
    "def conjugate_gradient(A: np.ndarray, b: np.ndarray, max_iterations=10000, tol=1e-6) -> np.ndarray:\n",
    "    start_time = time.perf_counter()\n",
    "    x = np.zeros_like(b, dtype=np.float64)\n",
    "    r = b - A @ x\n",
    "    p = r.copy()\n",
    "\n",
    "    r0 = r.copy()\n",
    "    r0_norm = np.linalg.norm(r0)\n",
    "\n",
    "    for j in range(max_iterations):\n",
    "        q = A @ p\n",
    "        alpha = np.dot(r, r) / np.dot(p, q)\n",
    "        x = x + alpha * p\n",
    "        r_new = r - alpha * q\n",
    "        if np.linalg.norm(r_new) / r0_norm < tol:\n",
    "            print(\"Number of iterations:\", j + 1)\n",
    "            print(\"Elapsed time:\", time.perf_counter() - start_time, \"s\")\n",
    "            return x\n",
    "        beta = np.dot(r_new, r_new) / np.dot(r, r)\n",
    "        p = r_new + beta * p\n",
    "        r = r_new\n",
    "    print(\"Warning: Solution did not converge after {} iterations\".format(max_iterations))\n",
    "    print(\"Best approximation obtained within tolerance.\")\n",
    "    print(\"Elapsed time:\", time.perf_counter() - start_time, \"s\")\n",
    "    return x"
   ]
  },
  {
   "cell_type": "markdown",
   "id": "2031a78f-ac92-4edb-b926-04633e097472",
   "metadata": {},
   "source": [
    "## PCG Algorithm"
   ]
  },
  {
   "cell_type": "markdown",
   "id": "94478709-676b-4d79-ba7b-dd4e41666e5c",
   "metadata": {},
   "source": [
    "### Circulant Preconditioners"
   ]
  },
  {
   "cell_type": "markdown",
   "id": "6aa99e01-be6f-4bf5-896c-0d753ec31aa0",
   "metadata": {},
   "source": [
    "CG can be speed up by using circulant preconditioners. A $n \\times n$ matrix $C_n$ is called circulant matrix if  \n",
    "$$\n",
    "C_n = \n",
    "\\begin{bmatrix}\n",
    "c_0 & c_{-1} & \\cdots & c_{2-n} & c_{1-n} \\\\\n",
    "c_{1-n} & c_0 & c_{-1} & \\cdots & c_{2-n} \\\\\n",
    "\\vdots & c_{1-n} & c_0 & \\cdots & \\vdots \\\\\n",
    "c_{-2} & \\cdots & \\cdots & \\cdots & c_{-1} \\\\\n",
    "c_{-1} & c_{-2} & \\cdots & c_{1-n} & c_0 \\\\\n",
    "\\end{bmatrix}\n",
    "$$\n"
   ]
  },
  {
   "cell_type": "markdown",
   "id": "d4abc23a-3271-4a6c-b897-969610394905",
   "metadata": {},
   "source": [
    "#### G. Strang's circulant preconditioner"
   ]
  },
  {
   "cell_type": "markdown",
   "id": "61005eff-1317-4439-81b8-f5af99245593",
   "metadata": {},
   "source": [
    "G. Strang’s circulant preconditioner which is defined as $[C_n]_{k,l} = c_{k-l}$ for $0 \\leq k, l < n$, where\n",
    "\n",
    "$$\n",
    "c_j = \\begin{cases} \n",
    "a_j & \\text{for } 0 \\leq j \\leq \\left\\lfloor \\frac{n}{2} \\right\\rfloor \\\\\n",
    "a_{j-n} & \\text{for } \\left\\lfloor \\frac{n}{2} \\right\\rfloor < j < n \\\\\n",
    "c_{n+j} & \\text{for } 0 < -j < n\n",
    "\\end{cases}\n",
    "$$\n",
    "\n",
    "where operator $[x]$ returns the closest integer smaller than $x$."
   ]
  },
  {
   "cell_type": "markdown",
   "id": "dac07d84-4a33-47fa-9180-5c49b6325c64",
   "metadata": {},
   "source": [
    "In fact, we don't have to construct complete matrix. Instead, we only need to know matrix's first column, I'll explain why later. As a result, we can build the preconditioner in $O(nlogn)$ steps."
   ]
  },
  {
   "cell_type": "code",
   "execution_count": 7,
   "id": "d2926fa3-60cd-4294-b991-5aa2a8411dd6",
   "metadata": {},
   "outputs": [],
   "source": [
    "def get_A_index(k, n) -> tuple:\n",
    "    \"\"\"\n",
    "    This function is used to get the location of the kth element in the A matrix.\n",
    "    \"\"\"\n",
    "    # First row\n",
    "    if k <= 0:\n",
    "        row = 0\n",
    "        col = -k\n",
    "    # First column\n",
    "    elif k > 0:\n",
    "        row = k\n",
    "        col = 0\n",
    "    # This is in T_chan's case if k - n = n or -n in this case we use k = 0\n",
    "    if k == n or k == -n:\n",
    "        row = col = 0\n",
    "    return row, col\n",
    "\n",
    "\n",
    "def G_Strang_first_column(A: np.ndarray) -> np.ndarray :\n",
    "    n = A.shape[0]\n",
    "    D = np.zeros(n, dtype=np.float64)\n",
    "    for k in range(n):\n",
    "        if k <= math.floor(n / 2):\n",
    "            D[k] = A[get_A_index(k, n)]\n",
    "        else:\n",
    "            D[k] = A[get_A_index(k - n, n)]\n",
    "    return D"
   ]
  },
  {
   "cell_type": "code",
   "execution_count": 8,
   "id": "84136186-0d2c-461b-a830-1a58cf6ac439",
   "metadata": {},
   "outputs": [
    {
     "name": "stdout",
     "output_type": "stream",
     "text": [
      "[1.         0.5        0.33333333 0.5       ]\n"
     ]
    }
   ],
   "source": [
    "M = G_Strang_first_column(A)\n",
    "print(M)"
   ]
  },
  {
   "cell_type": "markdown",
   "id": "1fa6ab51-807c-4860-aa88-766918866b37",
   "metadata": {},
   "source": [
    "#### T. Chan's circulant preconditioner"
   ]
  },
  {
   "cell_type": "markdown",
   "id": "2e620f4b-b7e2-47dd-b911-1d6b3c525c39",
   "metadata": {},
   "source": [
    "T. Chan’s circulant preconditioner\r\n",
    "\r\n",
    "$$\r\n",
    "c_j = \\begin{cases} \r\n",
    "\\frac{(n-j)a_j + ja_{j-n}}{n} & \\text{for } 0 \\leq j < n \\\\\r\n",
    "c_{n+j} & \\text{for } 0 < -j < n \r\n",
    "\\end{cases}\r\n",
    "$$\r\n"
   ]
  },
  {
   "cell_type": "markdown",
   "id": "f379f496-13ce-46a4-bec0-f5b416816e12",
   "metadata": {},
   "source": [
    "Similarly, we only need to form out the first column of the matrix, which can be constructed in $O(nlogn)$ steps."
   ]
  },
  {
   "cell_type": "code",
   "execution_count": 9,
   "id": "76089e1a-a488-4f7d-81c3-e46e554f4498",
   "metadata": {},
   "outputs": [],
   "source": [
    "def T_Chan_first_column(A: np.ndarray) -> np.ndarray:\n",
    "    n = A.shape[0]\n",
    "    D = np.zeros(n, dtype=np.float64)\n",
    "    for k in range(n):\n",
    "        aj = A[get_A_index(k, n)]\n",
    "        aj_minus_n = A[get_A_index(k - n, n)]\n",
    "        D[k] = ((n - k) * aj + k * aj_minus_n) / n\n",
    "    return D"
   ]
  },
  {
   "cell_type": "code",
   "execution_count": 10,
   "id": "8a9d6cca-5057-4cda-9774-eafbb84568b2",
   "metadata": {},
   "outputs": [
    {
     "name": "stdout",
     "output_type": "stream",
     "text": [
      "[1.         0.4375     0.33333333 0.4375    ]\n"
     ]
    }
   ],
   "source": [
    "M = T_Chan_first_column(A)\n",
    "print(M)"
   ]
  },
  {
   "cell_type": "markdown",
   "id": "0688d810-cb22-4756-9435-bae9a5fc048b",
   "metadata": {},
   "source": [
    "### Precondition strategy"
   ]
  },
  {
   "cell_type": "markdown",
   "id": "230724a1-658e-4d3f-a495-ec24b6807d4b",
   "metadata": {},
   "source": [
    "In my method, I use **M-inner product** strategy to do the preconditioning, which means in every step I have to solve a linear system $Mz = r$, which is the critical part of the PCG algorithm that determines the time performance. To solve this linear system efficiently, we must use the property of the circulant matrices:"
   ]
  },
  {
   "cell_type": "markdown",
   "id": "fbec7274-81a1-4b00-9f24-968c766e99be",
   "metadata": {},
   "source": [
    "In fact, circulant matrices are diagonalized by the Fourier matrix $F_n$, i.e. \n",
    "$$\n",
    "C_n = F_n^{*} \\Lambda_n F_n\n",
    "$$"
   ]
  },
  {
   "cell_type": "markdown",
   "id": "b3b1684d-cef6-4687-882f-db90abc872f5",
   "metadata": {},
   "source": [
    "where $ [F]_{j,k} = \\frac{1}{\\sqrt{n}} e^{-2\\pi ijk/n}$ for $0 \\leq j,k \\leq n - 1$ and $\\Lambda_n$ is a diagonal matrix holding the eigenvalues of $C_n$. $\\Lambda_n$ can be obtained in $O(nlogn)$ operations by taking FFT of the first column. An intuition for this is that the Fourier Transform is designed to be working with periodic functions and signals, and circuland matrices with their periodic row shifts, fit neatly into this framework. The columns of DFT matrix(computed via FFT) align perfectly as the eigenvectors of any circulant matrix, making FFT an ideal tool for diagonalization."
   ]
  },
  {
   "cell_type": "markdown",
   "id": "a8570746-7640-4282-b481-a64f968c705e",
   "metadata": {},
   "source": [
    "Once $\\Lambda_n$ is obtained, the product $C_n^{-1}\\vec{y}$ can be computed by FFT using $O(nlogn)$ operations for any given vector $\\vec{y}$, this makes solve $Mz=r$ very quickly. "
   ]
  },
  {
   "cell_type": "markdown",
   "id": "3557a1b4-a20d-4b68-9766-1e71eb3243d4",
   "metadata": {},
   "source": [
    "Here is the proof of why we can use FFT to compute $C_n^{-1}\\vec{y}$:"
   ]
  },
  {
   "cell_type": "markdown",
   "id": "1b48f0f1-5e91-447c-8256-c6b54cdae2d0",
   "metadata": {},
   "source": [
    "$$\n",
    "C_n^{-1}\\vec{y} \\\\\n",
    "= (F_n^{*} \\Lambda_n F_n)^{-1} \\vec{y} \\\\\n",
    "= F_n^{*} \\ \\Lambda_n^{-1} F_n \\vec{y} \\\\\n",
    "= F_n^{*} \\ \\Lambda_n^{-1} FFT(\\vec{y}) \\\\\n",
    "= F_n^{*} \\ FFT(\\text{first column of } C_n)^{-1} FFT(\\vec{y}) \\\\\n",
    "= IFFT(FFT(\\text{first column of } C_n)^{-1} \\ FFT(\\vec{y})) \\\\\n",
    "$$"
   ]
  },
  {
   "cell_type": "markdown",
   "id": "26f082ff-1991-4d06-a16c-4e40772a3a30",
   "metadata": {},
   "source": [
    "Thus, to compute $C_n^{-1} \\vec{y}$, there are three steps:\n",
    "1. Compute the DFT of $\\vec{y}$ (using FFT)\n",
    "2. Find the eigenvalues of $C_n$ by computing the DFT of its first column, denoted as $\\Lambda_n$\n",
    "3. Multiply inverse of $\\Lambda_n$ with the DFT of \\vec{y}\n",
    "4. Apply the IDFT of the result"
   ]
  },
  {
   "cell_type": "markdown",
   "id": "44bf54dd-15af-4498-8098-ee2612939eaa",
   "metadata": {},
   "source": [
    "As a result, we can implment PCG easily:"
   ]
  },
  {
   "cell_type": "code",
   "execution_count": 11,
   "id": "210debb9-e1c8-4244-8d22-a85c78e4bc4f",
   "metadata": {},
   "outputs": [],
   "source": [
    "def preconditioned_conjugate_gradient(A: np.ndarray, b: np.ndarray, preconditioner_func, max_iterations=10000, tol=1e-6) -> np.ndarray:\n",
    "    \"\"\"\n",
    "    Solve Ax = b using the preconditioned conjugate gradient method.\n",
    "    Use CG in M-inner product\n",
    "    :param M: preconditioner\n",
    "    \"\"\"\n",
    "    start_time = time.perf_counter()\n",
    "\n",
    "    C_first_column = preconditioner_func(A)\n",
    "    D_inv = 1 / np.fft.fft(C_first_column)\n",
    "\n",
    "    x = np.zeros_like(b, dtype=np.float64)\n",
    "    r = b - A @ x\n",
    "    # Solve Mz = r\n",
    "    z = np.fft.ifft(D_inv * np.fft.fft(r)).real\n",
    "    p = z.copy()\n",
    "\n",
    "    r0 = r.copy()\n",
    "    r0_norm = np.linalg.norm(r0)\n",
    "\n",
    "    for j in range(max_iterations):\n",
    "        q = A @ p\n",
    "        alpha = np.dot(r, z) / np.dot(p, q)\n",
    "        x = x + alpha * p\n",
    "        r_new = r - alpha * q\n",
    "        if np.linalg.norm(r_new) / r0_norm < tol:\n",
    "            print(\"Number of iterations:\", j + 1)\n",
    "            print(\"Elapsed time:\", time.perf_counter() - start_time, \"s\")\n",
    "            return x\n",
    "        # Solve Mz = r\n",
    "        z_new = np.fft.ifft(D_inv * np.fft.fft(r_new)).real\n",
    "        beta = np.dot(r_new, z_new) / np.dot(r, z)\n",
    "        p = z_new + beta * p\n",
    "        r = r_new\n",
    "        z = z_new\n",
    "    print(\"Warning: Solution did not converge after {} iterations\".format(max_iterations))\n",
    "    print(\"Best approximation obtained within tolerance.\")\n",
    "    print(\"Elapsed time:\", time.perf_counter() - start_time, \"s\")\n",
    "    return x"
   ]
  },
  {
   "cell_type": "markdown",
   "id": "418d7b81-0356-4562-bc20-aa6562867238",
   "metadata": {},
   "source": [
    "## Result"
   ]
  },
  {
   "cell_type": "code",
   "execution_count": 12,
   "id": "7b1d87d9-0261-4430-b4f5-9aabe353f645",
   "metadata": {},
   "outputs": [],
   "source": [
    "sizes = [50, 100, 200, 400, 800, 1600]\n",
    "ps = [2, 1, 1 / 10, 1 / 100]\n",
    "solvers = [conjugate_gradient, preconditioned_conjugate_gradient]\n",
    "preconditioners = [G_Strang_first_column, T_Chan_first_column]"
   ]
  },
  {
   "cell_type": "markdown",
   "id": "db11ff32-cff0-4909-9521-383faa7815b0",
   "metadata": {},
   "source": [
    "### Solve power decay system"
   ]
  },
  {
   "cell_type": "code",
   "execution_count": 13,
   "id": "ed90cad7-6cff-4ec5-9bc5-e74e5802b17c",
   "metadata": {},
   "outputs": [
    {
     "name": "stdout",
     "output_type": "stream",
     "text": [
      "System: generate_power_decay_system, Size: 50, p: 2, Solver: conjugate_gradient\n",
      "Number of iterations: 11\n",
      "Elapsed time: 0.0004884999943897128 s\n",
      "--------------------------------------------------------------------------\n",
      "System: generate_power_decay_system, Size: 50, p: 2, Solver: preconditioned_conjugate_gradient, Preconditioner: G_Strang_first_column\n",
      "Number of iterations: 5\n",
      "Elapsed time: 0.0002719999974942766 s\n",
      "--------------------------------------------------------------------------\n",
      "System: generate_power_decay_system, Size: 50, p: 2, Solver: preconditioned_conjugate_gradient, Preconditioner: T_Chan_first_column\n",
      "Number of iterations: 5\n",
      "Elapsed time: 0.00021220000053290278 s\n",
      "--------------------------------------------------------------------------\n",
      "System: generate_power_decay_system, Size: 50, p: 1, Solver: conjugate_gradient\n",
      "Number of iterations: 17\n",
      "Elapsed time: 0.0002457000009599142 s\n",
      "--------------------------------------------------------------------------\n",
      "System: generate_power_decay_system, Size: 50, p: 1, Solver: preconditioned_conjugate_gradient, Preconditioner: G_Strang_first_column\n",
      "Number of iterations: 6\n",
      "Elapsed time: 0.0002327999973203987 s\n",
      "--------------------------------------------------------------------------\n",
      "System: generate_power_decay_system, Size: 50, p: 1, Solver: preconditioned_conjugate_gradient, Preconditioner: T_Chan_first_column\n",
      "Number of iterations: 6\n",
      "Elapsed time: 0.00024370000028284267 s\n",
      "--------------------------------------------------------------------------\n",
      "System: generate_power_decay_system, Size: 50, p: 0.1, Solver: conjugate_gradient\n",
      "Number of iterations: 27\n",
      "Elapsed time: 0.0005187999995541759 s\n",
      "--------------------------------------------------------------------------\n",
      "System: generate_power_decay_system, Size: 50, p: 0.1, Solver: preconditioned_conjugate_gradient, Preconditioner: G_Strang_first_column\n",
      "Number of iterations: 7\n",
      "Elapsed time: 0.00025779999850783497 s\n",
      "--------------------------------------------------------------------------\n",
      "System: generate_power_decay_system, Size: 50, p: 0.1, Solver: preconditioned_conjugate_gradient, Preconditioner: T_Chan_first_column\n",
      "Number of iterations: 7\n",
      "Elapsed time: 0.0001956000050995499 s\n",
      "--------------------------------------------------------------------------\n",
      "System: generate_power_decay_system, Size: 50, p: 0.01, Solver: conjugate_gradient\n",
      "Number of iterations: 30\n",
      "Elapsed time: 0.00036189999809721485 s\n",
      "--------------------------------------------------------------------------\n",
      "System: generate_power_decay_system, Size: 50, p: 0.01, Solver: preconditioned_conjugate_gradient, Preconditioner: G_Strang_first_column\n",
      "Number of iterations: 8\n",
      "Elapsed time: 0.0002494000000297092 s\n",
      "--------------------------------------------------------------------------\n",
      "System: generate_power_decay_system, Size: 50, p: 0.01, Solver: preconditioned_conjugate_gradient, Preconditioner: T_Chan_first_column\n",
      "Number of iterations: 6\n",
      "Elapsed time: 0.0002482000054442324 s\n",
      "--------------------------------------------------------------------------\n",
      "System: generate_power_decay_system, Size: 100, p: 2, Solver: conjugate_gradient\n",
      "Number of iterations: 12\n",
      "Elapsed time: 0.0029169000044930726 s\n",
      "--------------------------------------------------------------------------\n",
      "System: generate_power_decay_system, Size: 100, p: 2, Solver: preconditioned_conjugate_gradient, Preconditioner: G_Strang_first_column\n",
      "Number of iterations: 5\n",
      "Elapsed time: 0.0014561000061803497 s\n",
      "--------------------------------------------------------------------------\n",
      "System: generate_power_decay_system, Size: 100, p: 2, Solver: preconditioned_conjugate_gradient, Preconditioner: T_Chan_first_column\n",
      "Number of iterations: 5\n",
      "Elapsed time: 0.0014698000013595447 s\n",
      "--------------------------------------------------------------------------\n",
      "System: generate_power_decay_system, Size: 100, p: 1, Solver: conjugate_gradient\n",
      "Number of iterations: 21\n",
      "Elapsed time: 0.004910000003292225 s\n",
      "--------------------------------------------------------------------------\n",
      "System: generate_power_decay_system, Size: 100, p: 1, Solver: preconditioned_conjugate_gradient, Preconditioner: G_Strang_first_column\n",
      "Number of iterations: 6\n",
      "Elapsed time: 0.0019252999991294928 s\n",
      "--------------------------------------------------------------------------\n",
      "System: generate_power_decay_system, Size: 100, p: 1, Solver: preconditioned_conjugate_gradient, Preconditioner: T_Chan_first_column\n",
      "Number of iterations: 6\n",
      "Elapsed time: 0.0017981999990297481 s\n",
      "--------------------------------------------------------------------------\n",
      "System: generate_power_decay_system, Size: 100, p: 0.1, Solver: conjugate_gradient\n",
      "Number of iterations: 38\n",
      "Elapsed time: 0.008917400002246723 s\n",
      "--------------------------------------------------------------------------\n",
      "System: generate_power_decay_system, Size: 100, p: 0.1, Solver: preconditioned_conjugate_gradient, Preconditioner: G_Strang_first_column\n",
      "Number of iterations: 7\n",
      "Elapsed time: 0.0019971000001532957 s\n",
      "--------------------------------------------------------------------------\n",
      "System: generate_power_decay_system, Size: 100, p: 0.1, Solver: preconditioned_conjugate_gradient, Preconditioner: T_Chan_first_column\n",
      "Number of iterations: 7\n",
      "Elapsed time: 0.00193349999608472 s\n",
      "--------------------------------------------------------------------------\n",
      "System: generate_power_decay_system, Size: 100, p: 0.01, Solver: conjugate_gradient\n",
      "Number of iterations: 44\n",
      "Elapsed time: 0.01027089999843156 s\n",
      "--------------------------------------------------------------------------\n",
      "System: generate_power_decay_system, Size: 100, p: 0.01, Solver: preconditioned_conjugate_gradient, Preconditioner: G_Strang_first_column\n",
      "Number of iterations: 8\n",
      "Elapsed time: 0.002258399996208027 s\n",
      "--------------------------------------------------------------------------\n",
      "System: generate_power_decay_system, Size: 100, p: 0.01, Solver: preconditioned_conjugate_gradient, Preconditioner: T_Chan_first_column\n",
      "Number of iterations: 8\n",
      "Elapsed time: 0.002024699999310542 s\n",
      "--------------------------------------------------------------------------\n",
      "System: generate_power_decay_system, Size: 200, p: 2, Solver: conjugate_gradient\n",
      "Number of iterations: 12\n",
      "Elapsed time: 0.0027396000004955567 s\n",
      "--------------------------------------------------------------------------\n",
      "System: generate_power_decay_system, Size: 200, p: 2, Solver: preconditioned_conjugate_gradient, Preconditioner: G_Strang_first_column\n",
      "Number of iterations: 5\n",
      "Elapsed time: 0.0015859999984968454 s\n",
      "--------------------------------------------------------------------------\n",
      "System: generate_power_decay_system, Size: 200, p: 2, Solver: preconditioned_conjugate_gradient, Preconditioner: T_Chan_first_column\n",
      "Number of iterations: 5\n",
      "Elapsed time: 0.0016031999984988943 s\n",
      "--------------------------------------------------------------------------\n",
      "System: generate_power_decay_system, Size: 200, p: 1, Solver: conjugate_gradient\n",
      "Number of iterations: 25\n",
      "Elapsed time: 0.0056203999993158504 s\n",
      "--------------------------------------------------------------------------\n",
      "System: generate_power_decay_system, Size: 200, p: 1, Solver: preconditioned_conjugate_gradient, Preconditioner: G_Strang_first_column\n",
      "Number of iterations: 6\n",
      "Elapsed time: 0.0018572000044514425 s\n",
      "--------------------------------------------------------------------------\n",
      "System: generate_power_decay_system, Size: 200, p: 1, Solver: preconditioned_conjugate_gradient, Preconditioner: T_Chan_first_column\n",
      "Number of iterations: 6\n",
      "Elapsed time: 0.0017735000001266599 s\n",
      "--------------------------------------------------------------------------\n",
      "System: generate_power_decay_system, Size: 200, p: 0.1, Solver: conjugate_gradient\n",
      "Number of iterations: 53\n",
      "Elapsed time: 0.011949200001254212 s\n",
      "--------------------------------------------------------------------------\n",
      "System: generate_power_decay_system, Size: 200, p: 0.1, Solver: preconditioned_conjugate_gradient, Preconditioner: G_Strang_first_column\n",
      "Number of iterations: 7\n",
      "Elapsed time: 0.002133399997546803 s\n",
      "--------------------------------------------------------------------------\n",
      "System: generate_power_decay_system, Size: 200, p: 0.1, Solver: preconditioned_conjugate_gradient, Preconditioner: T_Chan_first_column\n",
      "Number of iterations: 7\n",
      "Elapsed time: 0.002295799997227732 s\n",
      "--------------------------------------------------------------------------\n",
      "System: generate_power_decay_system, Size: 200, p: 0.01, Solver: conjugate_gradient\n",
      "Number of iterations: 63\n",
      "Elapsed time: 0.013683400000445545 s\n",
      "--------------------------------------------------------------------------\n",
      "System: generate_power_decay_system, Size: 200, p: 0.01, Solver: preconditioned_conjugate_gradient, Preconditioner: G_Strang_first_column\n",
      "Number of iterations: 8\n",
      "Elapsed time: 0.0022257000018726103 s\n",
      "--------------------------------------------------------------------------\n",
      "System: generate_power_decay_system, Size: 200, p: 0.01, Solver: preconditioned_conjugate_gradient, Preconditioner: T_Chan_first_column\n",
      "Number of iterations: 8\n",
      "Elapsed time: 0.0022077000030549243 s\n",
      "--------------------------------------------------------------------------\n",
      "System: generate_power_decay_system, Size: 400, p: 2, Solver: conjugate_gradient\n",
      "Number of iterations: 12\n",
      "Elapsed time: 0.004582800000207499 s\n",
      "--------------------------------------------------------------------------\n",
      "System: generate_power_decay_system, Size: 400, p: 2, Solver: preconditioned_conjugate_gradient, Preconditioner: G_Strang_first_column\n",
      "Number of iterations: 5\n",
      "Elapsed time: 0.002565900002082344 s\n",
      "--------------------------------------------------------------------------\n",
      "System: generate_power_decay_system, Size: 400, p: 2, Solver: preconditioned_conjugate_gradient, Preconditioner: T_Chan_first_column\n",
      "Number of iterations: 5\n",
      "Elapsed time: 0.0028936999951838516 s\n",
      "--------------------------------------------------------------------------\n",
      "System: generate_power_decay_system, Size: 400, p: 1, Solver: conjugate_gradient\n",
      "Number of iterations: 28\n",
      "Elapsed time: 0.006856700005300809 s\n",
      "--------------------------------------------------------------------------\n",
      "System: generate_power_decay_system, Size: 400, p: 1, Solver: preconditioned_conjugate_gradient, Preconditioner: G_Strang_first_column\n",
      "Number of iterations: 7\n",
      "Elapsed time: 0.002421200006210711 s\n",
      "--------------------------------------------------------------------------\n",
      "System: generate_power_decay_system, Size: 400, p: 1, Solver: preconditioned_conjugate_gradient, Preconditioner: T_Chan_first_column\n",
      "Number of iterations: 6\n",
      "Elapsed time: 0.0017608000052860007 s\n",
      "--------------------------------------------------------------------------\n",
      "System: generate_power_decay_system, Size: 400, p: 0.1, Solver: conjugate_gradient\n",
      "Number of iterations: 73\n",
      "Elapsed time: 0.014426800000364892 s\n",
      "--------------------------------------------------------------------------\n",
      "System: generate_power_decay_system, Size: 400, p: 0.1, Solver: preconditioned_conjugate_gradient, Preconditioner: G_Strang_first_column\n",
      "Number of iterations: 7\n",
      "Elapsed time: 0.002074500000162516 s\n",
      "--------------------------------------------------------------------------\n",
      "System: generate_power_decay_system, Size: 400, p: 0.1, Solver: preconditioned_conjugate_gradient, Preconditioner: T_Chan_first_column\n",
      "Number of iterations: 8\n",
      "Elapsed time: 0.0022862999976496212 s\n",
      "--------------------------------------------------------------------------\n",
      "System: generate_power_decay_system, Size: 400, p: 0.01, Solver: conjugate_gradient\n",
      "Number of iterations: 90\n",
      "Elapsed time: 0.018195800003013574 s\n",
      "--------------------------------------------------------------------------\n",
      "System: generate_power_decay_system, Size: 400, p: 0.01, Solver: preconditioned_conjugate_gradient, Preconditioner: G_Strang_first_column\n",
      "Number of iterations: 8\n",
      "Elapsed time: 0.002653000003192574 s\n",
      "--------------------------------------------------------------------------\n",
      "System: generate_power_decay_system, Size: 400, p: 0.01, Solver: preconditioned_conjugate_gradient, Preconditioner: T_Chan_first_column\n",
      "Number of iterations: 7\n",
      "Elapsed time: 0.002050399998552166 s\n",
      "--------------------------------------------------------------------------\n",
      "System: generate_power_decay_system, Size: 800, p: 2, Solver: conjugate_gradient\n",
      "Number of iterations: 12\n",
      "Elapsed time: 0.003540999998222105 s\n",
      "--------------------------------------------------------------------------\n",
      "System: generate_power_decay_system, Size: 800, p: 2, Solver: preconditioned_conjugate_gradient, Preconditioner: G_Strang_first_column\n",
      "Number of iterations: 5\n",
      "Elapsed time: 0.002398799995717127 s\n",
      "--------------------------------------------------------------------------\n",
      "System: generate_power_decay_system, Size: 800, p: 2, Solver: preconditioned_conjugate_gradient, Preconditioner: T_Chan_first_column\n",
      "Number of iterations: 5\n",
      "Elapsed time: 0.002093200004310347 s\n",
      "--------------------------------------------------------------------------\n",
      "System: generate_power_decay_system, Size: 800, p: 1, Solver: conjugate_gradient\n",
      "Number of iterations: 31\n",
      "Elapsed time: 0.007376000001386274 s\n",
      "--------------------------------------------------------------------------\n",
      "System: generate_power_decay_system, Size: 800, p: 1, Solver: preconditioned_conjugate_gradient, Preconditioner: G_Strang_first_column\n",
      "Number of iterations: 7\n",
      "Elapsed time: 0.0030687000034959055 s\n",
      "--------------------------------------------------------------------------\n",
      "System: generate_power_decay_system, Size: 800, p: 1, Solver: preconditioned_conjugate_gradient, Preconditioner: T_Chan_first_column\n",
      "Number of iterations: 7\n",
      "Elapsed time: 0.002900500003306661 s\n",
      "--------------------------------------------------------------------------\n",
      "System: generate_power_decay_system, Size: 800, p: 0.1, Solver: conjugate_gradient\n",
      "Number of iterations: 102\n",
      "Elapsed time: 0.02294170000095619 s\n",
      "--------------------------------------------------------------------------\n",
      "System: generate_power_decay_system, Size: 800, p: 0.1, Solver: preconditioned_conjugate_gradient, Preconditioner: G_Strang_first_column\n",
      "Number of iterations: 8\n",
      "Elapsed time: 0.003445599999395199 s\n",
      "--------------------------------------------------------------------------\n",
      "System: generate_power_decay_system, Size: 800, p: 0.1, Solver: preconditioned_conjugate_gradient, Preconditioner: T_Chan_first_column\n",
      "Number of iterations: 8\n",
      "Elapsed time: 0.0030651999986730516 s\n",
      "--------------------------------------------------------------------------\n",
      "System: generate_power_decay_system, Size: 800, p: 0.01, Solver: conjugate_gradient\n",
      "Number of iterations: 127\n",
      "Elapsed time: 0.03187160000379663 s\n",
      "--------------------------------------------------------------------------\n",
      "System: generate_power_decay_system, Size: 800, p: 0.01, Solver: preconditioned_conjugate_gradient, Preconditioner: G_Strang_first_column\n",
      "Number of iterations: 8\n",
      "Elapsed time: 0.002636600002006162 s\n",
      "--------------------------------------------------------------------------\n",
      "System: generate_power_decay_system, Size: 800, p: 0.01, Solver: preconditioned_conjugate_gradient, Preconditioner: T_Chan_first_column\n",
      "Number of iterations: 8\n",
      "Elapsed time: 0.002622300002258271 s\n",
      "--------------------------------------------------------------------------\n",
      "System: generate_power_decay_system, Size: 1600, p: 2, Solver: conjugate_gradient\n",
      "Number of iterations: 12\n",
      "Elapsed time: 0.0062144999974407256 s\n",
      "--------------------------------------------------------------------------\n",
      "System: generate_power_decay_system, Size: 1600, p: 2, Solver: preconditioned_conjugate_gradient, Preconditioner: G_Strang_first_column\n",
      "Number of iterations: 5\n",
      "Elapsed time: 0.0048349999997299165 s\n",
      "--------------------------------------------------------------------------\n",
      "System: generate_power_decay_system, Size: 1600, p: 2, Solver: preconditioned_conjugate_gradient, Preconditioner: T_Chan_first_column\n",
      "Number of iterations: 5\n",
      "Elapsed time: 0.004544700001133606 s\n",
      "--------------------------------------------------------------------------\n",
      "System: generate_power_decay_system, Size: 1600, p: 1, Solver: conjugate_gradient\n",
      "Number of iterations: 34\n",
      "Elapsed time: 0.01883079999970505 s\n",
      "--------------------------------------------------------------------------\n",
      "System: generate_power_decay_system, Size: 1600, p: 1, Solver: preconditioned_conjugate_gradient, Preconditioner: G_Strang_first_column\n",
      "Number of iterations: 7\n",
      "Elapsed time: 0.007679099995584693 s\n",
      "--------------------------------------------------------------------------\n",
      "System: generate_power_decay_system, Size: 1600, p: 1, Solver: preconditioned_conjugate_gradient, Preconditioner: T_Chan_first_column\n",
      "Number of iterations: 7\n",
      "Elapsed time: 0.005517400000826456 s\n",
      "--------------------------------------------------------------------------\n",
      "System: generate_power_decay_system, Size: 1600, p: 0.1, Solver: conjugate_gradient\n",
      "Number of iterations: 141\n",
      "Elapsed time: 0.05335079999349546 s\n",
      "--------------------------------------------------------------------------\n",
      "System: generate_power_decay_system, Size: 1600, p: 0.1, Solver: preconditioned_conjugate_gradient, Preconditioner: G_Strang_first_column\n",
      "Number of iterations: 8\n",
      "Elapsed time: 0.007131300000764895 s\n",
      "--------------------------------------------------------------------------\n",
      "System: generate_power_decay_system, Size: 1600, p: 0.1, Solver: preconditioned_conjugate_gradient, Preconditioner: T_Chan_first_column\n",
      "Number of iterations: 8\n",
      "Elapsed time: 0.007754800004477147 s\n",
      "--------------------------------------------------------------------------\n",
      "System: generate_power_decay_system, Size: 1600, p: 0.01, Solver: conjugate_gradient\n",
      "Number of iterations: 179\n",
      "Elapsed time: 0.0801491000020178 s\n",
      "--------------------------------------------------------------------------\n",
      "System: generate_power_decay_system, Size: 1600, p: 0.01, Solver: preconditioned_conjugate_gradient, Preconditioner: G_Strang_first_column\n",
      "Number of iterations: 8\n",
      "Elapsed time: 0.0075488000002224 s\n",
      "--------------------------------------------------------------------------\n",
      "System: generate_power_decay_system, Size: 1600, p: 0.01, Solver: preconditioned_conjugate_gradient, Preconditioner: T_Chan_first_column\n",
      "Number of iterations: 8\n",
      "Elapsed time: 0.007695199994486757 s\n",
      "--------------------------------------------------------------------------\n"
     ]
    }
   ],
   "source": [
    "system = generate_power_decay_system\n",
    "for size in sizes:\n",
    "    for p in ps:\n",
    "        for solver in solvers:\n",
    "            A = system(size, p)\n",
    "            b = np.random.rand(size)\n",
    "            if solver == conjugate_gradient and system == generate_power_decay_system:\n",
    "                print(f\"System: {system.__name__}, Size: {size}, p: {p}, Solver: {solver.__name__}\")\n",
    "                solver(A, b)\n",
    "                print(\"--------------------------------------------------------------------------\")\n",
    "            else:\n",
    "                for preconditioner in preconditioners:\n",
    "                    print(f\"System: {system.__name__}, Size: {size}, p: {p}, Solver: {solver.__name__}, \"\n",
    "                          f\"Preconditioner: {preconditioner.__name__}\")\n",
    "                    solver(A, b, preconditioner)\n",
    "                    print(\"--------------------------------------------------------------------------\")"
   ]
  },
  {
   "cell_type": "markdown",
   "id": "7bd98180-ac14-4d17-897f-67fdc4307925",
   "metadata": {},
   "source": [
    "### Size=50\n",
    "\n",
    "| p    | Solver                                | Preconditioner          | Iterations | Time (s)            |\r\n",
    "|------|---------------------------------------|-------------------------|------------|---------------------|\r\n",
    "| 2    | conjugate_gradient                    | N/A                     | 11         | 0.0006549000027007423 |\r\n",
    "| 2    | preconditioned_conjugate_gradient     | G_Strang_first_column   | 5          | 0.0004996000061510131 |\r\n",
    "| 2    | preconditioned_conjugate_gradient     | T_Chan_first_column     | 5          | 0.00025270000332966447 |\r\n",
    "| 1    | conjugate_gradient                    | N/A                     | 17         | 0.0006433999951696023 |\r\n",
    "| 1    | preconditioned_conjugate_gradient     | G_Strang_first_column   | 5          | 0.00025469999673077837 |\r\n",
    "| 1    | preconditioned_conjugate_gradient     | T_Chan_first_column     | 5          | 0.00024120000307448208 |\r\n",
    "| 0.1  | conjugate_gradient                    | N/A                     | 27         | 0.0005464999994728714 |\r\n",
    "| 0.1  | preconditioned_conjugate_gradient     | G_Strang_first_column   | 7          | 0.0003093999985139817 |\r\n",
    "| 0.1  | preconditioned_conjugate_gradient     | T_Chan_first_column     | 6          | 0.00028279999969527125 |\r\n",
    "| 0.01 | conjugate_gradient                    | N/A                     | 29         | 0.0007117000059224665 |\r\n",
    "| 0.01 | preconditioned_conjugate_gradient     | G_Strang_first_column   | 8          | 0.00040040000021690503 |\r\n",
    "| 0.01 | preconditioned_conjugate_gradient     | T_Chan_first_column     | 6          | 0.0002421000026515685 |\r\n"
   ]
  },
  {
   "cell_type": "markdown",
   "id": "ff0c02a6-f411-4d95-96dd-edb0873df849",
   "metadata": {},
   "source": [
    "### System Size: 100\r\n",
    "\r\n",
    "| p    | Solver                               | Preconditioner         | Iterations | Time (s)            |\r\n",
    "|------|--------------------------------------|------------------------|------------|---------------------|\r\n",
    "| 2    | conjugate_gradient                   | N/A                    | 11         | 0.0027657           |\r\n",
    "| 2    | preconditioned_conjugate_gradient    | G_Strang_first_column  | 5          | 0.0027584           |\r\n",
    "| 2    | preconditioned_conjugate_gradient    | T_Chan_first_column    | 5          | 0.0021768           |\r\n",
    "| 1    | conjugate_gradient                   | N/A                    | 21         | 0.005652            |\r\n",
    "| 1    | preconditioned_conjugate_gradient    | G_Strang_first_column  | 6          | 0.0018638           |\r\n",
    "| 1    | preconditioned_conjugate_gradient    | T_Chan_first_column    | 6          | 0.0017173           |\r\n",
    "| 0.1  | conjugate_gradient                   | N/A                    | 38         | 0.0086145           |\r\n",
    "| 0.1  | preconditioned_conjugate_gradient    | G_Strang_first_column  | 7          | 0.0017604           |\r\n",
    "| 0.1  | preconditioned_conjugate_gradient    | T_Chan_first_column    | 7          | 0.0019581           |\r\n",
    "| 0.01 | conjugate_gradient                   | N/A                    | 43         | 0.0087726           |\r\n",
    "| 0.01 | preconditioned_conjugate_gradient    | G_Strang_first_column  | 7          | 0.0019217           |\r\n",
    "| 0.01 | preconditioned_conjugate_gradient    | T_Chan_first_column    | 8          | 0.0021603           |\r\n"
   ]
  },
  {
   "cell_type": "markdown",
   "id": "13b8dd8a-4404-4f32-886c-0f830b181ab9",
   "metadata": {},
   "source": [
    "### System Size: 200\r\n",
    "\r\n",
    "| p    | Solver                               | Preconditioner         | Iterations | Time (s)            |\r\n",
    "|------|--------------------------------------|------------------------|------------|---------------------|\r\n",
    "| 2    | conjugate_gradient                   | N/A                    | 12         | 0.002733            |\r\n",
    "| 2    | preconditioned_conjugate_gradient    | G_Strang_first_column  | 5          | 0.0014527           |\r\n",
    "| 2    | preconditioned_conjugate_gradient    | T_Chan_first_column    | 5          | 0.0013965           |\r\n",
    "| 1    | conjugate_gradient                   | N/A                    | 25         | 0.0057394           |\r\n",
    "| 1    | preconditioned_conjugate_gradient    | G_Strang_first_column  | 6          | 0.0018796           |\r\n",
    "| 1    | preconditioned_conjugate_gradient    | T_Chan_first_column    | 6          | 0.001644            |\r\n",
    "| 0.1  | conjugate_gradient                   | N/A                    | 52         | 0.0110451           |\r\n",
    "| 0.1  | preconditioned_conjugate_gradient    | G_Strang_first_column  | 7          | 0.0021021           |\r\n",
    "| 0.1  | preconditioned_conjugate_gradient    | T_Chan_first_column    | 7          | 0.002136            |\r\n",
    "| 0.01 | conjugate_gradient                   | N/A                    | 61         | 0.0125123           |\r\n",
    "| 0.01 | preconditioned_conjugate_gradient    | G_Strang_first_column  | 7          | 0.0021652           |\r\n",
    "| 0.01 | preconditioned_conjugate_gradient    | T_Chan_first_column    | 8          | 0.0022653           |\r\n"
   ]
  },
  {
   "cell_type": "markdown",
   "id": "48870351-f8ba-4814-a720-bbeac23caa74",
   "metadata": {},
   "source": [
    "### System Size: 400\r\n",
    "\r\n",
    "| p    | Solver                               | Preconditioner         | Iterations | Time (s)            |\r\n",
    "|------|--------------------------------------|------------------------|------------|---------------------|\r\n",
    "| 2    | conjugate_gradient                   | N/A                    | 12         | 0.0030075           |\r\n",
    "| 2    | preconditioned_conjugate_gradient    | G_Strang_first_column  | 5          | 0.0023084           |\r\n",
    "| 2    | preconditioned_conjugate_gradient    | T_Chan_first_column    | 5          | 0.0019037           |\r\n",
    "| 1    | conjugate_gradient                   | N/A                    | 28         | 0.0060845           |\r\n",
    "| 1    | preconditioned_conjugate_gradient    | G_Strang_first_column  | 6          | 0.0021089           |\r\n",
    "| 1    | preconditioned_conjugate_gradient    | T_Chan_first_column    | 7          | 0.0022139           |\r\n",
    "| 0.1  | conjugate_gradient                   | N/A                    | 75         | 0.0155357           |\r\n",
    "| 0.1  | preconditioned_conjugate_gradient    | G_Strang_first_column  | 8          | 0.0024951           |\r\n",
    "| 0.1  | preconditioned_conjugate_gradient    | T_Chan_first_column    | 8          | 0.0021182           |\r\n",
    "| 0.01 | conjugate_gradient                   | N/A                    | 89         | 0.0199796           |\r\n",
    "| 0.01 | preconditioned_conjugate_gradient    | G_Strang_first_column  | 8          | 0.0023754           |\r\n",
    "| 0.01 | preconditioned_conjugate_gradient    | T_Chan_first_column    | 8          | 0.0022142           |\r\n"
   ]
  },
  {
   "cell_type": "markdown",
   "id": "3037cf99-b2bf-4757-ac06-fb76c6a49cd7",
   "metadata": {},
   "source": [
    "### System Size: 800\r\n",
    "\r\n",
    "| p    | Solver                               | Preconditioner         | Iterations | Time (s)            |\r\n",
    "|------|--------------------------------------|------------------------|------------|---------------------|\r\n",
    "| 2    | conjugate_gradient                   | N/A                    | 12         | 0.0033478           |\r\n",
    "| 2    | preconditioned_conjugate_gradient    | G_Strang_first_column  | 5          | 0.0023476           |\r\n",
    "| 2    | preconditioned_conjugate_gradient    | T_Chan_first_column    | 5          | 0.00213             |\r\n",
    "| 1    | conjugate_gradient                   | N/A                    | 31         | 0.0075645           |\r\n",
    "| 1    | preconditioned_conjugate_gradient    | G_Strang_first_column  | 7          | 0.0032703           |\r\n",
    "| 1    | preconditioned_conjugate_gradient    | T_Chan_first_column    | 7          | 0.002726            |\r\n",
    "| 0.1  | conjugate_gradient                   | N/A                    | 102        | 0.0225243           |\r\n",
    "| 0.1  | preconditioned_conjugate_gradient    | G_Strang_first_column  | 8          | 0.0033378           |\r\n",
    "| 0.1  | preconditioned_conjugate_gradient    | T_Chan_first_column    | 8          | 0.0035453           |\r\n",
    "| 0.01 | conjugate_gradient                   | N/A                    | 130        | 0.0355536           |\r\n",
    "| 0.01 | preconditioned_conjugate_gradient    | G_Strang_first_column  | 8          | 0.0029305           |\r\n",
    "| 0.01 | preconditioned_conjugate_gradient    | T_Chan_first_column    | 7          | 0.0029404           |\r\n"
   ]
  },
  {
   "cell_type": "markdown",
   "id": "11fffcff-166d-4929-84e0-3aec054b5dc8",
   "metadata": {},
   "source": [
    "### System Size: 1600\r\n",
    "\r\n",
    "| p    | Solver                               | Preconditioner         | Iterations | Time (s)            |\r\n",
    "|------|--------------------------------------|------------------------|------------|---------------------|\r\n",
    "| 2    | conjugate_gradient                   | N/A                    | 12         | 0.0069434           |\r\n",
    "| 2    | preconditioned_conjugate_gradient    | G_Strang_first_column  | 5          | 0.0056521           |\r\n",
    "| 2    | preconditioned_conjugate_gradient    | T_Chan_first_column    | 5          | 0.0046456           |\r\n",
    "| 1    | conjugate_gradient                   | N/A                    | 34         | 0.0183944           |\r\n",
    "| 1    | preconditioned_conjugate_gradient    | G_Strang_first_column  | 7          | 0.0052975           |\r\n",
    "| 1    | preconditioned_conjugate_gradient    | T_Chan_first_column    | 7          | 0.0074622           |\r\n",
    "| 0.1  | conjugate_gradient                   | N/A                    | 139        | 0.092029            |\r\n",
    "| 0.1  | preconditioned_conjugate_gradient    | G_Strang_first_column  | 8          | 0.0078479           |\r\n",
    "| 0.1  | preconditioned_conjugate_gradient    | T_Chan_first_column    | 8          | 0.0082056           |\r\n",
    "| 0.01 | conjugate_gradient                   | N/A                    | 181        | 0.0685267           |\r\n",
    "| 0.01 | preconditioned_conjugate_gradient    | G_Strang_first_column  | 8          | 0.0082231           |\r\n",
    "| 0.01 | preconditioned_conjugate_gradient    | T_Chan_first_column    | 8          | 0.0066817           |\r\n"
   ]
  },
  {
   "cell_type": "markdown",
   "id": "fc9b5c75-3cb2-4461-b895-78e03242d5fc",
   "metadata": {},
   "source": [
    "We can see that PCG is indeed a lot better than CG in terms of convergence rate. Also, the runtime is nearly $O(nlogn)$ growing as matrix's size getting relatively big. In terms of speed, T.Chan's circulant preconditioner performs better than G.Strang's circulant preconditioner."
   ]
  },
  {
   "cell_type": "markdown",
   "id": "9e23dd36-7fdf-44bf-b49f-605d26605d6b",
   "metadata": {},
   "source": [
    "### Solve FFT system"
   ]
  },
  {
   "cell_type": "code",
   "execution_count": 14,
   "id": "954a9002-a7ae-44b2-9caf-62321319f25b",
   "metadata": {},
   "outputs": [
    {
     "name": "stdout",
     "output_type": "stream",
     "text": [
      "System: generate_FFT_system, Size: 50, Solver: conjugate_gradient\n",
      "Number of iterations: 27\n",
      "Elapsed time: 0.00037029999657534063 s\n",
      "--------------------------------------------------------------------------\n",
      "System: generate_FFT_system, Size: 50, Solver: preconditioned_conjugate_gradient, Preconditioner: G_Strang_first_column\n",
      "Number of iterations: 1\n",
      "Elapsed time: 6.259999645408243e-05 s\n",
      "--------------------------------------------------------------------------\n",
      "System: generate_FFT_system, Size: 50, Solver: preconditioned_conjugate_gradient, Preconditioner: T_Chan_first_column\n",
      "Number of iterations: 1\n",
      "Elapsed time: 6.44999963697046e-05 s\n",
      "--------------------------------------------------------------------------\n",
      "System: generate_FFT_system, Size: 100, Solver: conjugate_gradient\n",
      "Number of iterations: 43\n",
      "Elapsed time: 0.008809400002064649 s\n",
      "--------------------------------------------------------------------------\n",
      "System: generate_FFT_system, Size: 100, Solver: preconditioned_conjugate_gradient, Preconditioner: G_Strang_first_column\n",
      "Number of iterations: 1\n",
      "Elapsed time: 0.0004565999988699332 s\n",
      "--------------------------------------------------------------------------\n",
      "System: generate_FFT_system, Size: 100, Solver: preconditioned_conjugate_gradient, Preconditioner: T_Chan_first_column\n",
      "Number of iterations: 1\n",
      "Elapsed time: 0.0004442999997991137 s\n",
      "--------------------------------------------------------------------------\n",
      "System: generate_FFT_system, Size: 200, Solver: conjugate_gradient\n",
      "Number of iterations: 57\n",
      "Elapsed time: 0.010711499999160878 s\n",
      "--------------------------------------------------------------------------\n",
      "System: generate_FFT_system, Size: 200, Solver: preconditioned_conjugate_gradient, Preconditioner: G_Strang_first_column\n",
      "Number of iterations: 1\n",
      "Elapsed time: 0.00047400000039488077 s\n",
      "--------------------------------------------------------------------------\n",
      "System: generate_FFT_system, Size: 200, Solver: preconditioned_conjugate_gradient, Preconditioner: T_Chan_first_column\n",
      "Number of iterations: 1\n",
      "Elapsed time: 0.0005372000014176592 s\n",
      "--------------------------------------------------------------------------\n",
      "System: generate_FFT_system, Size: 400, Solver: conjugate_gradient\n",
      "Number of iterations: 65\n",
      "Elapsed time: 0.012945299997227266 s\n",
      "--------------------------------------------------------------------------\n",
      "System: generate_FFT_system, Size: 400, Solver: preconditioned_conjugate_gradient, Preconditioner: G_Strang_first_column\n",
      "Number of iterations: 1\n",
      "Elapsed time: 0.0005138999986229464 s\n",
      "--------------------------------------------------------------------------\n",
      "System: generate_FFT_system, Size: 400, Solver: preconditioned_conjugate_gradient, Preconditioner: T_Chan_first_column\n",
      "Number of iterations: 1\n",
      "Elapsed time: 0.000592699994740542 s\n",
      "--------------------------------------------------------------------------\n",
      "System: generate_FFT_system, Size: 800, Solver: conjugate_gradient\n",
      "Number of iterations: 68\n",
      "Elapsed time: 0.015072900001541711 s\n",
      "--------------------------------------------------------------------------\n",
      "System: generate_FFT_system, Size: 800, Solver: preconditioned_conjugate_gradient, Preconditioner: G_Strang_first_column\n",
      "Number of iterations: 1\n",
      "Elapsed time: 0.0009448999990127049 s\n",
      "--------------------------------------------------------------------------\n",
      "System: generate_FFT_system, Size: 800, Solver: preconditioned_conjugate_gradient, Preconditioner: T_Chan_first_column\n",
      "Number of iterations: 1\n",
      "Elapsed time: 0.0010770000008051284 s\n",
      "--------------------------------------------------------------------------\n",
      "System: generate_FFT_system, Size: 1600, Solver: conjugate_gradient\n",
      "Number of iterations: 69\n",
      "Elapsed time: 0.030541899999661837 s\n",
      "--------------------------------------------------------------------------\n",
      "System: generate_FFT_system, Size: 1600, Solver: preconditioned_conjugate_gradient, Preconditioner: G_Strang_first_column\n",
      "Number of iterations: 1\n",
      "Elapsed time: 0.002252599995699711 s\n",
      "--------------------------------------------------------------------------\n",
      "System: generate_FFT_system, Size: 1600, Solver: preconditioned_conjugate_gradient, Preconditioner: T_Chan_first_column\n",
      "Number of iterations: 1\n",
      "Elapsed time: 0.002316500002052635 s\n",
      "--------------------------------------------------------------------------\n"
     ]
    }
   ],
   "source": [
    "system = generate_FFT_system\n",
    "for size in sizes:\n",
    "    for solver in solvers:\n",
    "        A = system(size)\n",
    "        b = np.random.rand(size)\n",
    "        if solver == conjugate_gradient and system == generate_FFT_system:\n",
    "            print(f\"System: {system.__name__}, Size: {size}, Solver: {solver.__name__}\")\n",
    "            solver(A, b)\n",
    "            print(\"--------------------------------------------------------------------------\")\n",
    "        else:\n",
    "            for preconditioner in preconditioners:\n",
    "                print(f\"System: {system.__name__}, Size: {size}, Solver: {solver.__name__}, \"\n",
    "                      f\"Preconditioner: {preconditioner.__name__}\")\n",
    "                solver(A, b, preconditioner)\n",
    "                print(\"--------------------------------------------------------------------------\")"
   ]
  },
  {
   "cell_type": "markdown",
   "id": "4a88a111-01ce-4d46-a25d-8f99ef843f37",
   "metadata": {},
   "source": [
    "| System Size | Solver                              | Preconditioner          | Number of Iterations | Elapsed Time (s)     |\r\n",
    "|-------------|-------------------------------------|-------------------------|----------------------|----------------------|\r\n",
    "| 50          | Conjugate Gradient                  | N/A                     | 25                   | 0.0012978000013390556|\r\n",
    "| 50          | Preconditioned Conjugate Gradient   | G_Strang_first_column   | 1                    | 0.0003171999996993691|\r\n",
    "| 50          | Preconditioned Conjugate Gradient   | T_Chan_first_column     | 1                    | 7.929999992484227e-05|\r\n",
    "| 100         | Conjugate Gradient                  | N/A                     | 43                   | 0.00879299999360228  |\r\n",
    "| 100         | Preconditioned Conjugate Gradient   | G_Strang_first_column   | 1                    | 0.00045899999531684443|\r\n",
    "| 100         | Preconditioned Conjugate Gradient   | T_Chan_first_column     | 1                    | 0.00046830000064801425|\r\n",
    "| 200         | Conjugate Gradient                  | N/A                     | 57                   | 0.01173939999716822  |\r\n",
    "| 200         | Preconditioned Conjugate Gradient   | G_Strang_first_column   | 1                    | 0.00047539999650325626|\r\n",
    "| 200         | Preconditioned Conjugate Gradient   | T_Chan_first_column     | 1                    | 0.000498699999297969 |\r\n",
    "| 400         | Conjugate Gradient                  | N/A                     | 64                   | 0.012046399999235291 |\r\n",
    "| 400         | Preconditioned Conjugate Gradient   | G_Strang_first_column   | 1                    | 0.000516200001584366 |\r\n",
    "| 400         | Preconditioned Conjugate Gradient   | T_Chan_first_column     | 1                    | 0.0006210000065038912|\r\n",
    "| 800         | Conjugate Gradient                  | N/A                     | 68                   | 0.014797800002270378 |\r\n",
    "| 800         | Preconditioned Conjugate Gradient   | G_Strang_first_column   | 1                    | 0.0007345999983954243|\r\n",
    "| 800         | Preconditioned Conjugate Gradient   | T_Chan_first_column     | 1                    | 0.0008898000014596619|\r\n",
    "| 1600        | Conjugate Gradient                  | N/A                     | 69                   | 0.030721600000106264 |\r\n",
    "| 1600        | Preconditioned Conjugate Gradient   | G_Strang_first_column   | 1                    | 0.0020373000006657094|\r\n",
    "| 1600        | Preconditioned Conjugate Gradient   | T_Chan_first_column     | 1                    | 0.0019420999960857444|\r\n"
   ]
  },
  {
   "cell_type": "markdown",
   "id": "1283bdeb-79b1-4489-bd68-35bb60886767",
   "metadata": {},
   "source": [
    "We can see that PCG is indeed a lot better than CG in terms of convergence rate. For this kind of system, PCG with circulant preconditioner can converge with just 1 step. Also, the runtime is nearly $O(nlogn)$ growing as matrix's size getting relatively big. In terms of speed, these two preconditioners' performances are almost the same."
   ]
  }
 ],
 "metadata": {
  "kernelspec": {
   "display_name": "Python 3 (ipykernel)",
   "language": "python",
   "name": "python3"
  },
  "language_info": {
   "codemirror_mode": {
    "name": "ipython",
    "version": 3
   },
   "file_extension": ".py",
   "mimetype": "text/x-python",
   "name": "python",
   "nbconvert_exporter": "python",
   "pygments_lexer": "ipython3",
   "version": "3.11.4"
  }
 },
 "nbformat": 4,
 "nbformat_minor": 5
}
