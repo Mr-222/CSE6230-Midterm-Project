{
 "cells": [
  {
   "cell_type": "markdown",
   "id": "7670ff83-3709-470c-a744-56e8eeb1b086",
   "metadata": {},
   "source": [
    "# Preconditioned Conjugated Gradient for Toeplitz System "
   ]
  },
  {
   "cell_type": "markdown",
   "id": "1907bb3b-0fec-4454-bf11-96225a46ddab",
   "metadata": {},
   "source": [
    "## Form Toelitz Systems"
   ]
  },
  {
   "cell_type": "markdown",
   "id": "bef268a0-c649-4100-aba2-e66693305b29",
   "metadata": {},
   "source": [
    "A $n \\times n$ matrix $A_n$ is called a Toeplitz matrix if it has the form\n",
    "\n",
    "$$\n",
    "A_n = \n",
    "\\begin{bmatrix}\n",
    "a_0 & a_{-1} & \\cdots & a_{2-n} & a_{1-n} \\\\\n",
    "a_1 & a_0 & a_{-1} & \\ddots & \\vdots \\\\\n",
    "\\vdots & a_1 & \\ddots & \\ddots & a_{2-n} \\\\\n",
    "a_{n-2} & \\ddots & \\ddots & a_0 & a_{-1} \\\\\n",
    "a_{n-1} & a_{n-2} & \\cdots & a_1 & a_0\n",
    "\\end{bmatrix}\n",
    "$$\n",
    "In this project, we are solving **symmetric positive definite Toeplitz systems** by preconditioned CG methods using **circulant matrices** as the preconditioners"
   ]
  },
  {
   "cell_type": "markdown",
   "id": "a7535add-d464-4db3-898e-f3898fea1169",
   "metadata": {},
   "source": [
    "### Power decay System"
   ]
  },
  {
   "cell_type": "markdown",
   "id": "929732b9-0392-4417-a0a4-460f6aef31db",
   "metadata": {},
   "source": [
    "$a_k = | k + 1 |^{-p}$ for the lower triangular part of $A_n$, where $p = 2, 1, 1/10, 1/100$"
   ]
  },
  {
   "cell_type": "code",
   "execution_count": 5,
   "id": "6e23c117-fecb-460d-8bae-f6dc4ab4ad5b",
   "metadata": {},
   "outputs": [],
   "source": [
    "import numpy as np\n",
    "import time\n",
    "import scipy\n",
    "import math"
   ]
  },
  {
   "cell_type": "code",
   "execution_count": 6,
   "id": "fe37d627-a645-465b-bd14-9168a76196a8",
   "metadata": {},
   "outputs": [],
   "source": [
    "def generate_power_decay_system(n: int, p: np.float64) -> np.ndarray:\n",
    "    \"\"\"\n",
    "    A_n = [\n",
    "        a_0, a_{-1}, ..., a_{2 - n}, a_{1 - n},\n",
    "        a_1, a_0, a{-1}, ..., a_{2 - n},\n",
    "        ...\n",
    "        a_{n-1}, a_{n-2}, ..., a_1, a_0\n",
    "    ]\n",
    "    A:SPD\n",
    "    a_k = | k + 1 |^(-p) for lower triangular part\n",
    "    \"\"\"\n",
    "    A = np.zeros((n, n))\n",
    "    for i in range(n):\n",
    "        for j in range(n):\n",
    "            if i >= j:\n",
    "                A[i, j] = abs(i - j + 1) ** (-p)\n",
    "    # Make A as symmetric\n",
    "    A += A.T - np.diag(A.diagonal())\n",
    "\n",
    "    return A"
   ]
  },
  {
   "cell_type": "code",
   "execution_count": 17,
   "id": "a76122a1-cd12-4e5c-95a4-a4fe224001af",
   "metadata": {},
   "outputs": [
    {
     "name": "stdout",
     "output_type": "stream",
     "text": [
      "[[1.         0.5        0.33333333 0.25      ]\n",
      " [0.5        1.         0.5        0.33333333]\n",
      " [0.33333333 0.5        1.         0.5       ]\n",
      " [0.25       0.33333333 0.5        1.        ]]\n"
     ]
    }
   ],
   "source": [
    "A = generate_power_decay_system(4, 1)\n",
    "print(A)"
   ]
  },
  {
   "cell_type": "markdown",
   "id": "50c0e153-809c-4b17-9b51-5bf7d657ccab",
   "metadata": {},
   "source": [
    "### FFT System"
   ]
  },
  {
   "cell_type": "markdown",
   "id": "1ec0d9da-67d3-431d-a7dc-21294ed82d42",
   "metadata": {},
   "source": [
    "$$a_k = \\frac{1}{2\\pi} \\int_{-\\pi}^{\\pi} f(\\theta)e^{-ik\\theta}d\\theta, k = 0, \\pm1, \\pm2, ...$$\n",
    "$$ f(\\theta) = \\theta^4 + 1, -\\pi \\leq \\theta \\leq \\pi$$"
   ]
  },
  {
   "cell_type": "markdown",
   "id": "f07c2ca3-8f58-43c1-9a5a-f977cf53a7a8",
   "metadata": {},
   "source": [
    "Since the integral is the formula of continuous fourier transform, we can form the system's first column by using FFT (use $\\theta$ as sample parameter), then construct the symmetric Toeplitz matrix: "
   ]
  },
  {
   "cell_type": "code",
   "execution_count": 18,
   "id": "35586bc9-3790-4ce8-be7a-0d69fef99b31",
   "metadata": {},
   "outputs": [],
   "source": [
    "def generate_FFT_system(n: int, p) -> np.ndarray:\n",
    "    \"\"\"\n",
    "        A_n = [\n",
    "        a_0, a_{-1}, ..., a_{2 - n}, a_{1 - n},\n",
    "        a_1, a_0, a{-1}, ..., a_{2 - n},\n",
    "        ...\n",
    "        a_{n-1}, a_{n-2}, ..., a_1, a_0\n",
    "    ]\n",
    "    A:SPD\n",
    "    a_k = 1 / (2pi) * integral_-pi^pi f(theta) e^(-i * k * theta) dtheta\n",
    "    f(theta) = theta^4 + 1\n",
    "    \"\"\"\n",
    "    f = lambda theta: theta ** 4.0 + 1\n",
    "    thetas = np.linspace(-np.pi, np.pi, n, endpoint=False)\n",
    "    first_col = (np.fft.fft(f(thetas))) / np.float64(n)\n",
    "    A = scipy.linalg.toeplitz(first_col.real, first_col.real)\n",
    "\n",
    "    return A"
   ]
  },
  {
   "cell_type": "code",
   "execution_count": 19,
   "id": "d1a4c5d3-c147-4fa9-add4-e2a65285afa9",
   "metadata": {},
   "outputs": [
    {
     "name": "stdout",
     "output_type": "stream",
     "text": [
      "[[1.         0.5        0.33333333 0.25      ]\n",
      " [0.5        1.         0.5        0.33333333]\n",
      " [0.33333333 0.5        1.         0.5       ]\n",
      " [0.25       0.33333333 0.5        1.        ]]\n"
     ]
    }
   ],
   "source": [
    "A = generate_power_decay_system(4, 1)\n",
    "print(A)"
   ]
  },
  {
   "cell_type": "markdown",
   "id": "de1af07f-9f7d-493d-af5a-b7a5925a99f5",
   "metadata": {},
   "source": [
    "## CG Algorithm"
   ]
  },
  {
   "cell_type": "markdown",
   "id": "2130bd9c-1de3-46cc-8367-84d2018ac944",
   "metadata": {},
   "source": [
    "This is the normal conjugate gradient method with termination criteria $\\frac{\\Vert r^k \\Vert}{\\Vert r^0 \\Vert} <= 10^{-6}$ :"
   ]
  },
  {
   "cell_type": "code",
   "execution_count": 9,
   "id": "4e36ab4f-7fb8-461f-99d7-867f5db51455",
   "metadata": {},
   "outputs": [],
   "source": [
    "def conjugate_gradient(A: np.ndarray, b: np.ndarray, max_iterations=10000, tol=1e-6) -> np.ndarray:\n",
    "    start_time = time.time()\n",
    "    x = np.zeros_like(b, dtype=np.float64)\n",
    "    r = b - A @ x\n",
    "    p = r.copy()\n",
    "\n",
    "    r0 = r.copy()\n",
    "    r0_norm = np.linalg.norm(r0)\n",
    "\n",
    "    for j in range(max_iterations):\n",
    "        q = A @ p\n",
    "        alpha = np.dot(r, r) / np.dot(p, q)\n",
    "        x = x + alpha * p\n",
    "        r_new = r - alpha * q\n",
    "        if np.linalg.norm(r_new) / r0_norm < tol:\n",
    "            print(\"Number of iterations:\", j + 1)\n",
    "            print(\"Elapsed time:\", time.time() - start_time, \"s\")\n",
    "            return x\n",
    "        beta = np.dot(r_new, r_new) / np.dot(r, r)\n",
    "        p = r_new + beta * p\n",
    "        r = r_new\n",
    "    print(\"Warning: Solution did not converge after {} iterations\".format(max_iterations))\n",
    "    print(\"Best approximation obtained within tolerance.\")\n",
    "    print(\"Elapsed time:\", time.time() - start_time, \"s\")\n",
    "    return x"
   ]
  },
  {
   "cell_type": "markdown",
   "id": "2031a78f-ac92-4edb-b926-04633e097472",
   "metadata": {},
   "source": [
    "## PCG Algorithm"
   ]
  },
  {
   "cell_type": "markdown",
   "id": "94478709-676b-4d79-ba7b-dd4e41666e5c",
   "metadata": {},
   "source": [
    "### Circulant Preconditioners"
   ]
  },
  {
   "cell_type": "markdown",
   "id": "6aa99e01-be6f-4bf5-896c-0d753ec31aa0",
   "metadata": {},
   "source": [
    "CG can be speed up by using circulant preconditioners. A $n \\times n$ matrix $C_n$ is called circulant matrix if  \n",
    "$$\n",
    "C_n = \n",
    "\\begin{bmatrix}\n",
    "c_0 & c_{-1} & \\cdots & c_{2-n} & c_{1-n} \\\\\n",
    "c_{1-n} & c_0 & c_{-1} & \\cdots & c_{2-n} \\\\\n",
    "\\vdots & c_{1-n} & c_0 & \\cdots & \\vdots \\\\\n",
    "c_{-2} & \\cdots & \\cdots & \\cdots & c_{-1} \\\\\n",
    "c_{-1} & c_{-2} & \\cdots & c_{1-n} & c_0 \\\\\n",
    "\\end{bmatrix}\n",
    "$$\n"
   ]
  },
  {
   "cell_type": "markdown",
   "id": "d4abc23a-3271-4a6c-b897-969610394905",
   "metadata": {},
   "source": [
    "#### G. Strang's circulant preconditioner"
   ]
  },
  {
   "cell_type": "markdown",
   "id": "61005eff-1317-4439-81b8-f5af99245593",
   "metadata": {},
   "source": [
    "G. Strang’s circulant preconditioner which is defined as $[C_n]_{k,l} = c_{k-l}$ for $0 \\leq k, l < n$, where\n",
    "\n",
    "$$\n",
    "c_j = \\begin{cases} \n",
    "a_j & \\text{for } 0 \\leq j \\leq \\left\\lfloor \\frac{n}{2} \\right\\rfloor \\\\\n",
    "a_{j-n} & \\text{for } \\left\\lfloor \\frac{n}{2} \\right\\rfloor < j < n \\\\\n",
    "c_{n+j} & \\text{for } 0 < -j < n\n",
    "\\end{cases}\n",
    "$$\n",
    "\n",
    "where operator $[x]$ returns the closest integer smaller than $x$."
   ]
  },
  {
   "cell_type": "markdown",
   "id": "dac07d84-4a33-47fa-9180-5c49b6325c64",
   "metadata": {},
   "source": [
    "In fact, we don't have to construct complete matrix. Instead, we only need to know matrix's first column, I'll explain why later. "
   ]
  },
  {
   "cell_type": "code",
   "execution_count": 11,
   "id": "d2926fa3-60cd-4294-b991-5aa2a8411dd6",
   "metadata": {},
   "outputs": [],
   "source": [
    "def get_A_index(k, n) -> tuple:\n",
    "    \"\"\"\n",
    "    This function is used to get the location of the kth element in the A matrix.\n",
    "    \"\"\"\n",
    "    # First row\n",
    "    if k <= 0:\n",
    "        row = 0\n",
    "        col = -k\n",
    "    # First column\n",
    "    elif k > 0:\n",
    "        row = k\n",
    "        col = 0\n",
    "    # This is in T_chan's case if k - n = n or -n in this case we use k = 0\n",
    "    if k == n or k == -n:\n",
    "        row = col = 0\n",
    "    return row, col\n",
    "\n",
    "\n",
    "def G_Strang_first_column(A: np.ndarray) -> np.ndarray :\n",
    "    n = A.shape[0]\n",
    "    D = np.zeros(n, dtype=np.float64)\n",
    "    for k in range(n):\n",
    "        if k <= math.floor(n / 2):\n",
    "            D[k] = A[get_A_index(k, n)]\n",
    "        else:\n",
    "            D[k] = A[get_A_index(k - n, n)]\n",
    "    return D"
   ]
  },
  {
   "cell_type": "code",
   "execution_count": 21,
   "id": "84136186-0d2c-461b-a830-1a58cf6ac439",
   "metadata": {},
   "outputs": [
    {
     "name": "stdout",
     "output_type": "stream",
     "text": [
      "[1.         0.5        0.33333333 0.5       ]\n"
     ]
    }
   ],
   "source": [
    "M = G_Strang_first_column(A)\n",
    "print(M)"
   ]
  },
  {
   "cell_type": "markdown",
   "id": "1fa6ab51-807c-4860-aa88-766918866b37",
   "metadata": {},
   "source": [
    "#### T. Chan's circulant preconditioner"
   ]
  },
  {
   "cell_type": "markdown",
   "id": "2e620f4b-b7e2-47dd-b911-1d6b3c525c39",
   "metadata": {},
   "source": [
    "T. Chan’s circulant preconditioner\r\n",
    "\r\n",
    "$$\r\n",
    "c_j = \\begin{cases} \r\n",
    "\\frac{(n-j)a_j + ja_{j-n}}{n} & \\text{for } 0 \\leq j < n \\\\\r\n",
    "c_{n+j} & \\text{for } 0 < -j < n \r\n",
    "\\end{cases}\r\n",
    "$$\r\n"
   ]
  },
  {
   "cell_type": "markdown",
   "id": "f379f496-13ce-46a4-bec0-f5b416816e12",
   "metadata": {},
   "source": [
    "Similarly, we only need to form out the first column of the matrix"
   ]
  },
  {
   "cell_type": "code",
   "execution_count": 12,
   "id": "76089e1a-a488-4f7d-81c3-e46e554f4498",
   "metadata": {},
   "outputs": [],
   "source": [
    "def T_Chan_first_column(A: np.ndarray) -> np.ndarray:\n",
    "    n = A.shape[0]\n",
    "    D = np.zeros(n, dtype=np.float64)\n",
    "    for k in range(n):\n",
    "        aj = A[get_A_index(k, n)]\n",
    "        aj_minus_n = A[get_A_index(k - n, n)]\n",
    "        D[k] = ((n - k) * aj + k * aj_minus_n) / n\n",
    "    return D"
   ]
  },
  {
   "cell_type": "code",
   "execution_count": 20,
   "id": "8a9d6cca-5057-4cda-9774-eafbb84568b2",
   "metadata": {},
   "outputs": [
    {
     "name": "stdout",
     "output_type": "stream",
     "text": [
      "[1.         0.4375     0.33333333 0.4375    ]\n"
     ]
    }
   ],
   "source": [
    "M = T_Chan_first_column(A)\n",
    "print(M)"
   ]
  },
  {
   "cell_type": "markdown",
   "id": "0688d810-cb22-4756-9435-bae9a5fc048b",
   "metadata": {},
   "source": [
    "### Precondition strategy"
   ]
  },
  {
   "cell_type": "markdown",
   "id": "230724a1-658e-4d3f-a495-ec24b6807d4b",
   "metadata": {},
   "source": [
    "In my method, I use **M-inner product** strategy to do the preconditioning, which means in every step I have to solve a linear system $Mz = r$, which is the critical part of the PCG algorithm that determines the time performance. To solve this linear system efficiently, we must use the property of the circulant matrices:"
   ]
  },
  {
   "cell_type": "markdown",
   "id": "fbec7274-81a1-4b00-9f24-968c766e99be",
   "metadata": {},
   "source": [
    "In fact, circulant matrices are diagonalized by the Fourier matrix $F_n$, i.e. \n",
    "$$\n",
    "C_n = F_n^{*} \\Lambda_n F_n\n",
    "$$"
   ]
  },
  {
   "cell_type": "markdown",
   "id": "b3b1684d-cef6-4687-882f-db90abc872f5",
   "metadata": {},
   "source": [
    "where $ [F]_{j,k} = \\frac{1}{\\sqrt{n}} e^{-2\\pi ijk/n}$ for $0 \\leq j,k \\leq n - 1$ and $\\Lambda_n$ is a diagonal matrix holding the eigenvalues of $C_n$. $\\Lambda_n$ can be obtained in $O(nlogn)$ operations by taking FFT of the first column. An intuition for this is that the Fourier Transform is designed to be working with periodic functions and signals, and circuland matrices with their periodic row shifts, fit neatly into this framework. The columns of DFT matrix(computed via FFT) align perfectly as the eigenvectors of any circulant matrix, making FFT an ideal tool for diagonalization."
   ]
  },
  {
   "cell_type": "markdown",
   "id": "a8570746-7640-4282-b481-a64f968c705e",
   "metadata": {},
   "source": [
    "Once $\\Lambda_n$ is obtained, the product $C_n^{-1}\\vec{y}$ can be computed by FFT using $O(nlogn)$ operations for any given vector $\\vec{y}$, this makes solve $Mz=r$ very quickly. "
   ]
  },
  {
   "cell_type": "markdown",
   "id": "3557a1b4-a20d-4b68-9766-1e71eb3243d4",
   "metadata": {},
   "source": [
    "Here is the proof of why we can use FFT to compute $C_n^{-1}\\vec{y}$:"
   ]
  },
  {
   "cell_type": "markdown",
   "id": "1b48f0f1-5e91-447c-8256-c6b54cdae2d0",
   "metadata": {},
   "source": [
    "$$\n",
    "C_n^{-1}\\vec{y} \\\\\n",
    "= (F_n^{*} \\Lambda_n F_n)^{-1} \\vec{y} \\\\\n",
    "= F_n^{*} \\ \\Lambda_n^{-1} F_n \\vec{y} \\\\\n",
    "= F_n^{*} \\ \\Lambda_n^{-1} FFT(\\vec{y}) \\\\\n",
    "= F_n^{*} \\ FFT(\\text{first column of } C_n)^{-1} FFT(\\vec{y}) \\\\\n",
    "= IFFT(FFT(\\text{first column of } C_n)^{-1} \\ FFT(\\vec{y})) \\\\\n",
    "$$"
   ]
  },
  {
   "cell_type": "markdown",
   "id": "26f082ff-1991-4d06-a16c-4e40772a3a30",
   "metadata": {},
   "source": [
    "Thus, to compute $C_n^{-1} \\vec{y}$, there are three steps:\n",
    "1. Compute the DFT of $\\vec{y}$ (using FFT)\n",
    "2. Find the eigenvalues of $C_n$ by computing the DFT of its first column, denoted as $\\Lambda_n$\n",
    "3. Multiply inverse of $\\Lambda_n$ with the DFT of \\vec{y}\n",
    "4. Apply the IDFT of the result"
   ]
  },
  {
   "cell_type": "markdown",
   "id": "44bf54dd-15af-4498-8098-ee2612939eaa",
   "metadata": {},
   "source": [
    "As a result, we can implment PCG easily:"
   ]
  },
  {
   "cell_type": "code",
   "execution_count": 13,
   "id": "210debb9-e1c8-4244-8d22-a85c78e4bc4f",
   "metadata": {},
   "outputs": [],
   "source": [
    "def preconditioned_conjugate_gradient(A: np.ndarray, b: np.ndarray, preconditioner_fun, max_iterations=10000, tol=1e-6) -> np.ndarray:\n",
    "    \"\"\"\n",
    "    Solve Ax = b using the preconditioned conjugate gradient method.\n",
    "    Use CG in M-inner product\n",
    "    :param M: preconditioner\n",
    "    \"\"\"\n",
    "    start_time = time.time()\n",
    "\n",
    "    C_first_column = preconditioner_fun(A)\n",
    "    D_inv = 1 / np.fft.fft(C_first_column)\n",
    "\n",
    "    x = np.zeros_like(b, dtype=np.float64)\n",
    "    r = b - A @ x\n",
    "    # Solve Mz = r\n",
    "    z = np.fft.ifft(D_inv * np.fft.fft(r)).real\n",
    "    p = z.copy()\n",
    "\n",
    "    r0 = r.copy()\n",
    "    r0_norm = np.linalg.norm(r0)\n",
    "\n",
    "    for j in range(max_iterations):\n",
    "        q = A @ p\n",
    "        alpha = np.dot(r, z) / np.dot(p, q)\n",
    "        x = x + alpha * p\n",
    "        r_new = r - alpha * q\n",
    "        if np.linalg.norm(r_new) / r0_norm < tol:\n",
    "            print(\"Number of iterations:\", j + 1)\n",
    "            print(\"Elapsed time:\", time.time() - start_time, \"s\")\n",
    "            return x\n",
    "        # Solve Mz = r\n",
    "        z_new = np.fft.ifft(D_inv * np.fft.fft(r_new)).real\n",
    "        beta = np.dot(r_new, z_new) / np.dot(r, z)\n",
    "        p = z_new + beta * p\n",
    "        r = r_new\n",
    "        z = z_new\n",
    "    print(\"Warning: Solution did not converge after {} iterations\".format(max_iterations))\n",
    "    print(\"Best approximation obtained within tolerance.\")\n",
    "    print(\"Elapsed time:\", time.time() - start_time, \"s\")\n",
    "    return x\n"
   ]
  },
  {
   "cell_type": "markdown",
   "id": "418d7b81-0356-4562-bc20-aa6562867238",
   "metadata": {},
   "source": [
    "## Remarks"
   ]
  },
  {
   "cell_type": "code",
   "execution_count": null,
   "id": "3f586012-3b09-4dc7-bc0e-87ae4b3ae459",
   "metadata": {},
   "outputs": [],
   "source": []
  }
 ],
 "metadata": {
  "kernelspec": {
   "display_name": "Python 3 (ipykernel)",
   "language": "python",
   "name": "python3"
  },
  "language_info": {
   "codemirror_mode": {
    "name": "ipython",
    "version": 3
   },
   "file_extension": ".py",
   "mimetype": "text/x-python",
   "name": "python",
   "nbconvert_exporter": "python",
   "pygments_lexer": "ipython3",
   "version": "3.11.4"
  }
 },
 "nbformat": 4,
 "nbformat_minor": 5
}
